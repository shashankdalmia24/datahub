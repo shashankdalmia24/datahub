{
 "cells": [
  {
   "cell_type": "markdown",
   "metadata": {},
   "source": [
    "# Load and cleanup data\n",
    "\n",
    "\n",
    "We load user activity data and cloud cost data for the duration of the semester\n",
    "into pandas dataframes. We make sure our timezones are right, and that we fill in\n",
    "NaNs where we have missing data."
   ]
  },
  {
   "cell_type": "code",
   "execution_count": 1,
   "metadata": {},
   "outputs": [],
   "source": [
    "import pandas as pd\n",
    "from tqdm import tqdm"
   ]
  },
  {
   "cell_type": "code",
   "execution_count": 2,
   "metadata": {},
   "outputs": [],
   "source": [
    "# Log data for user activity\n",
    "path_usage = '../data/processed/fall-2018/user-activity.jsonl'\n",
    "datahub = pd.read_json(path_usage, lines=True)\n",
    "\n",
    "# Index by timestamp\n",
    "datahub = datahub.set_index('timestamp')\n",
    "\n",
    "# Our timestamps are in UTC\n",
    "datahub = datahub.tz_localize('UTC')\n",
    "# But we want them in US/Pacific, since that's how our billing data is setup\n",
    "datahub = datahub.tz_convert('US/Pacific')"
   ]
  },
  {
   "cell_type": "code",
   "execution_count": 3,
   "metadata": {},
   "outputs": [
    {
     "name": "stderr",
     "output_type": "stream",
     "text": [
      "100%|██████████| 462456/462456 [00:24<00:00, 18865.50it/s]\n"
     ]
    }
   ],
   "source": [
    "# Turn actions into sessions (takes a moment)\n",
    "# This makes the assumption that a session always begins with a \"start\" action\n",
    "# and ends with the next \"stop\" action by the same user.\n",
    "# It throws away sessions that begin with a \"stop\" action, or do not end w/ a \"stop\" action\n",
    "\n",
    "sessions = []\n",
    "active_sessions = {}\n",
    "\n",
    "rows = list(datahub.reset_index().iterrows())\n",
    "for ii, irow in tqdm(rows):\n",
    "    if irow['user'] not in active_sessions:\n",
    "        if irow['action'] == 'start':\n",
    "            active_sessions[irow['user']] = [irow['timestamp']]\n",
    "    else:\n",
    "        active_sessions[irow['user']].append(irow['timestamp'])\n",
    "        sessions.append(active_sessions.pop(irow['user']) + [irow['user']])\n",
    "sessions = pd.DataFrame(sessions, columns=['start', 'stop', 'user'])"
   ]
  },
  {
   "cell_type": "code",
   "execution_count": 4,
   "metadata": {},
   "outputs": [],
   "source": [
    "# Length is in minutes\n",
    "sessions['length'] = (sessions['stop'] - sessions['start'])\n",
    "\n",
    "# Smallest unit of time is an hour, so convert length to hours\n",
    "sessions['length_hours'] = sessions['length'].map(lambda a: a.seconds / 60 / 60)\n",
    "\n",
    "# Drop the timedelta since it's messy and redundant\n",
    "sessions = sessions.drop(columns=['length'])"
   ]
  },
  {
   "cell_type": "code",
   "execution_count": 5,
   "metadata": {},
   "outputs": [],
   "source": [
    "# Save to json\n",
    "sessions.to_json('../data/features/fall-2018/user-sessions.jsonl')"
   ]
  }
 ],
 "metadata": {
  "kernelspec": {
   "display_name": "Python 2",
   "language": "python",
   "name": "python2"
  },
  "language_info": {
   "codemirror_mode": {
    "name": "ipython",
    "version": 2
   },
   "file_extension": ".py",
   "mimetype": "text/x-python",
   "name": "python",
   "nbconvert_exporter": "python",
   "pygments_lexer": "ipython2",
   "version": "2.7.16"
  }
 },
 "nbformat": 4,
 "nbformat_minor": 2
}
